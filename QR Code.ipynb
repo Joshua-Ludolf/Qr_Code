{
 "cells": [
  {
   "cell_type": "code",
   "execution_count": 15,
   "id": "9eb4c0af",
   "metadata": {},
   "outputs": [
    {
     "data": {
      "image/png": "[encoded data removed]",
      "text/plain": [
       "<qrcode.image.pil.PilImage at 0x26b5402fa10>"
      ]
     },
     "metadata": {},
     "output_type": "display_data"
    }
   ],
   "source": [
    "# Import the libraries\n",
    "import qrcode\n",
    "from PIL import Image\n",
    "from IPython.display import display\n",
    "\n",
    "# URL to encode\n",
    "url = \"https://github.com/Joshua-Ludolf\"\n",
    "\n",
    "# instantiate QRCode object\n",
    "qr = qrcode.QRCode(version=1, box_size=2, border=4)\n",
    "\n",
    "# add URL to the QR code\n",
    "qr.add_data(url)\n",
    "\n",
    "# compile the data into a QR code array\n",
    "qr.make()\n",
    "\n",
    "# create an image from the QR code instance\n",
    "img = qr.make_image(fill='black', back_color='white')\n",
    "\n",
    "# display the image\n",
    "display(img)\n",
    "\n",
    "# Saving Image: img.save(\"qrcode.png\")\n"
   ]
  },
  {
   "cell_type": "code",
   "execution_count": null,
   "id": "fd7372a6",
   "metadata": {},
   "outputs": [],
   "source": []
  }
 ],
 "metadata": {
  "kernelspec": {
   "display_name": "Python 3 (ipykernel)",
   "language": "python",
   "name": "python3"
  },
  "language_info": {
   "codemirror_mode": {
    "name": "ipython",
    "version": 3
   },
   "file_extension": ".py",
   "mimetype": "text/x-python",
   "name": "python",
   "nbconvert_exporter": "python",
   "pygments_lexer": "ipython3",
   "version": "3.11.4"
  }
 },
 "nbformat": 4,
 "nbformat_minor": 5
}
